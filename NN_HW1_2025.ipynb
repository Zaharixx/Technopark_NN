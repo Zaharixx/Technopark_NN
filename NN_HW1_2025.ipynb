{
 "cells": [
  {
   "cell_type": "markdown",
   "id": "YfPhAJr3jOkh",
   "metadata": {
    "id": "YfPhAJr3jOkh"
   },
   "source": [
    "# HW 1"
   ]
  },
  {
   "cell_type": "code",
   "execution_count": 1,
   "id": "8cc148dc-d83d-4c32-bbb0-3ffd82ba4e98",
   "metadata": {
    "id": "8cc148dc-d83d-4c32-bbb0-3ffd82ba4e98"
   },
   "outputs": [],
   "source": [
    "import numpy as np\n",
    "import pandas as pd\n",
    "import matplotlib.pyplot as plt\n",
    "\n",
    "from sklearn.linear_model import LinearRegression\n",
    "from sklearn.model_selection import train_test_split\n",
    "from sklearn.metrics import r2_score\n",
    "from sklearn.preprocessing import MinMaxScaler\n",
    "\n",
    "%matplotlib inline"
   ]
  },
  {
   "cell_type": "markdown",
   "id": "e3a06e1e-3bc0-4667-84f3-7e86698c3737",
   "metadata": {
    "id": "e3a06e1e-3bc0-4667-84f3-7e86698c3737"
   },
   "source": [
    "# Загружаем выборку Diamonds"
   ]
  },
  {
   "cell_type": "markdown",
   "id": "sI-cvLDCjsua",
   "metadata": {
    "id": "sI-cvLDCjsua"
   },
   "source": [
    "На данной выборке можно проверять работоспособность своего решения"
   ]
  },
  {
   "cell_type": "markdown",
   "id": "c731a143-3dc9-43e7-96f5-b1eff9093345",
   "metadata": {
    "id": "c731a143-3dc9-43e7-96f5-b1eff9093345"
   },
   "source": [
    "1. PRICE: price in US dollars (326-18,823)\n",
    "2. CARAT: weight of the diamond (0.2--5.01)\n",
    "3. CUT: quality of the cut (Fair, Good, Very Good, Premium, Ideal)\n",
    "4. COLOR: diamond colour, from J (worst) to D (best)\n",
    "5. CLARITY: a measurement of how clear the diamond is (I1 (worst), SI2, SI1, VS2, VS1, VVS2, VVS1, IF (best))\n",
    "6. X: length in mm (0--10.74)\n",
    "7. Y: width in mm (0--58.9)\n",
    "8. Z: depth in mm (0--31.8)\n",
    "9. DEPTH: total depth percentage = z / mean(x, y) = 2 * z / (x + y) (43--79)\n",
    "10. TABLE: width of top of diamond relative to widest point (43--95)"
   ]
  },
  {
   "cell_type": "code",
   "execution_count": 3,
   "id": "0f24cf86-653a-422b-9df1-8029fdccf153",
   "metadata": {
    "id": "0f24cf86-653a-422b-9df1-8029fdccf153"
   },
   "outputs": [],
   "source": [
    "diamonds_df = pd.read_csv('diamonds.csv')"
   ]
  },
  {
   "cell_type": "code",
   "execution_count": 5,
   "id": "3246c79c-c1d3-4ceb-ab32-18446478f91d",
   "metadata": {},
   "outputs": [
    {
     "data": {
      "text/html": [
       "<div>\n",
       "<style scoped>\n",
       "    .dataframe tbody tr th:only-of-type {\n",
       "        vertical-align: middle;\n",
       "    }\n",
       "\n",
       "    .dataframe tbody tr th {\n",
       "        vertical-align: top;\n",
       "    }\n",
       "\n",
       "    .dataframe thead th {\n",
       "        text-align: right;\n",
       "    }\n",
       "</style>\n",
       "<table border=\"1\" class=\"dataframe\">\n",
       "  <thead>\n",
       "    <tr style=\"text-align: right;\">\n",
       "      <th></th>\n",
       "      <th>Unnamed: 0</th>\n",
       "      <th>carat</th>\n",
       "      <th>cut</th>\n",
       "      <th>color</th>\n",
       "      <th>clarity</th>\n",
       "      <th>depth</th>\n",
       "      <th>table</th>\n",
       "      <th>price</th>\n",
       "      <th>x</th>\n",
       "      <th>y</th>\n",
       "      <th>z</th>\n",
       "    </tr>\n",
       "  </thead>\n",
       "  <tbody>\n",
       "    <tr>\n",
       "      <th>0</th>\n",
       "      <td>1</td>\n",
       "      <td>0.23</td>\n",
       "      <td>Ideal</td>\n",
       "      <td>E</td>\n",
       "      <td>SI2</td>\n",
       "      <td>61.5</td>\n",
       "      <td>55.0</td>\n",
       "      <td>326</td>\n",
       "      <td>3.95</td>\n",
       "      <td>3.98</td>\n",
       "      <td>2.43</td>\n",
       "    </tr>\n",
       "    <tr>\n",
       "      <th>1</th>\n",
       "      <td>2</td>\n",
       "      <td>0.21</td>\n",
       "      <td>Premium</td>\n",
       "      <td>E</td>\n",
       "      <td>SI1</td>\n",
       "      <td>59.8</td>\n",
       "      <td>61.0</td>\n",
       "      <td>326</td>\n",
       "      <td>3.89</td>\n",
       "      <td>3.84</td>\n",
       "      <td>2.31</td>\n",
       "    </tr>\n",
       "    <tr>\n",
       "      <th>2</th>\n",
       "      <td>3</td>\n",
       "      <td>0.23</td>\n",
       "      <td>Good</td>\n",
       "      <td>E</td>\n",
       "      <td>VS1</td>\n",
       "      <td>56.9</td>\n",
       "      <td>65.0</td>\n",
       "      <td>327</td>\n",
       "      <td>4.05</td>\n",
       "      <td>4.07</td>\n",
       "      <td>2.31</td>\n",
       "    </tr>\n",
       "    <tr>\n",
       "      <th>3</th>\n",
       "      <td>4</td>\n",
       "      <td>0.29</td>\n",
       "      <td>Premium</td>\n",
       "      <td>I</td>\n",
       "      <td>VS2</td>\n",
       "      <td>62.4</td>\n",
       "      <td>58.0</td>\n",
       "      <td>334</td>\n",
       "      <td>4.20</td>\n",
       "      <td>4.23</td>\n",
       "      <td>2.63</td>\n",
       "    </tr>\n",
       "    <tr>\n",
       "      <th>4</th>\n",
       "      <td>5</td>\n",
       "      <td>0.31</td>\n",
       "      <td>Good</td>\n",
       "      <td>J</td>\n",
       "      <td>SI2</td>\n",
       "      <td>63.3</td>\n",
       "      <td>58.0</td>\n",
       "      <td>335</td>\n",
       "      <td>4.34</td>\n",
       "      <td>4.35</td>\n",
       "      <td>2.75</td>\n",
       "    </tr>\n",
       "    <tr>\n",
       "      <th>...</th>\n",
       "      <td>...</td>\n",
       "      <td>...</td>\n",
       "      <td>...</td>\n",
       "      <td>...</td>\n",
       "      <td>...</td>\n",
       "      <td>...</td>\n",
       "      <td>...</td>\n",
       "      <td>...</td>\n",
       "      <td>...</td>\n",
       "      <td>...</td>\n",
       "      <td>...</td>\n",
       "    </tr>\n",
       "    <tr>\n",
       "      <th>53935</th>\n",
       "      <td>53936</td>\n",
       "      <td>0.72</td>\n",
       "      <td>Ideal</td>\n",
       "      <td>D</td>\n",
       "      <td>SI1</td>\n",
       "      <td>60.8</td>\n",
       "      <td>57.0</td>\n",
       "      <td>2757</td>\n",
       "      <td>5.75</td>\n",
       "      <td>5.76</td>\n",
       "      <td>3.50</td>\n",
       "    </tr>\n",
       "    <tr>\n",
       "      <th>53936</th>\n",
       "      <td>53937</td>\n",
       "      <td>0.72</td>\n",
       "      <td>Good</td>\n",
       "      <td>D</td>\n",
       "      <td>SI1</td>\n",
       "      <td>63.1</td>\n",
       "      <td>55.0</td>\n",
       "      <td>2757</td>\n",
       "      <td>5.69</td>\n",
       "      <td>5.75</td>\n",
       "      <td>3.61</td>\n",
       "    </tr>\n",
       "    <tr>\n",
       "      <th>53937</th>\n",
       "      <td>53938</td>\n",
       "      <td>0.70</td>\n",
       "      <td>Very Good</td>\n",
       "      <td>D</td>\n",
       "      <td>SI1</td>\n",
       "      <td>62.8</td>\n",
       "      <td>60.0</td>\n",
       "      <td>2757</td>\n",
       "      <td>5.66</td>\n",
       "      <td>5.68</td>\n",
       "      <td>3.56</td>\n",
       "    </tr>\n",
       "    <tr>\n",
       "      <th>53938</th>\n",
       "      <td>53939</td>\n",
       "      <td>0.86</td>\n",
       "      <td>Premium</td>\n",
       "      <td>H</td>\n",
       "      <td>SI2</td>\n",
       "      <td>61.0</td>\n",
       "      <td>58.0</td>\n",
       "      <td>2757</td>\n",
       "      <td>6.15</td>\n",
       "      <td>6.12</td>\n",
       "      <td>3.74</td>\n",
       "    </tr>\n",
       "    <tr>\n",
       "      <th>53939</th>\n",
       "      <td>53940</td>\n",
       "      <td>0.75</td>\n",
       "      <td>Ideal</td>\n",
       "      <td>D</td>\n",
       "      <td>SI2</td>\n",
       "      <td>62.2</td>\n",
       "      <td>55.0</td>\n",
       "      <td>2757</td>\n",
       "      <td>5.83</td>\n",
       "      <td>5.87</td>\n",
       "      <td>3.64</td>\n",
       "    </tr>\n",
       "  </tbody>\n",
       "</table>\n",
       "<p>53940 rows × 11 columns</p>\n",
       "</div>"
      ],
      "text/plain": [
       "       Unnamed: 0  carat        cut color clarity  depth  table  price     x  \\\n",
       "0               1   0.23      Ideal     E     SI2   61.5   55.0    326  3.95   \n",
       "1               2   0.21    Premium     E     SI1   59.8   61.0    326  3.89   \n",
       "2               3   0.23       Good     E     VS1   56.9   65.0    327  4.05   \n",
       "3               4   0.29    Premium     I     VS2   62.4   58.0    334  4.20   \n",
       "4               5   0.31       Good     J     SI2   63.3   58.0    335  4.34   \n",
       "...           ...    ...        ...   ...     ...    ...    ...    ...   ...   \n",
       "53935       53936   0.72      Ideal     D     SI1   60.8   57.0   2757  5.75   \n",
       "53936       53937   0.72       Good     D     SI1   63.1   55.0   2757  5.69   \n",
       "53937       53938   0.70  Very Good     D     SI1   62.8   60.0   2757  5.66   \n",
       "53938       53939   0.86    Premium     H     SI2   61.0   58.0   2757  6.15   \n",
       "53939       53940   0.75      Ideal     D     SI2   62.2   55.0   2757  5.83   \n",
       "\n",
       "          y     z  \n",
       "0      3.98  2.43  \n",
       "1      3.84  2.31  \n",
       "2      4.07  2.31  \n",
       "3      4.23  2.63  \n",
       "4      4.35  2.75  \n",
       "...     ...   ...  \n",
       "53935  5.76  3.50  \n",
       "53936  5.75  3.61  \n",
       "53937  5.68  3.56  \n",
       "53938  6.12  3.74  \n",
       "53939  5.87  3.64  \n",
       "\n",
       "[53940 rows x 11 columns]"
      ]
     },
     "execution_count": 5,
     "metadata": {},
     "output_type": "execute_result"
    }
   ],
   "source": [
    "diamonds_df"
   ]
  },
  {
   "cell_type": "code",
   "execution_count": 7,
   "id": "70d9ccfe-e1cf-4c90-a5ab-40ae0852f1ce",
   "metadata": {
    "colab": {
     "base_uri": "https://localhost:8080/",
     "height": 204
    },
    "id": "70d9ccfe-e1cf-4c90-a5ab-40ae0852f1ce",
    "outputId": "48caecef-fcb9-440b-dd8b-3e4189ff9708"
   },
   "outputs": [
    {
     "data": {
      "text/html": [
       "<div>\n",
       "<style scoped>\n",
       "    .dataframe tbody tr th:only-of-type {\n",
       "        vertical-align: middle;\n",
       "    }\n",
       "\n",
       "    .dataframe tbody tr th {\n",
       "        vertical-align: top;\n",
       "    }\n",
       "\n",
       "    .dataframe thead th {\n",
       "        text-align: right;\n",
       "    }\n",
       "</style>\n",
       "<table border=\"1\" class=\"dataframe\">\n",
       "  <thead>\n",
       "    <tr style=\"text-align: right;\">\n",
       "      <th></th>\n",
       "      <th>Unnamed: 0</th>\n",
       "      <th>carat</th>\n",
       "      <th>cut</th>\n",
       "      <th>color</th>\n",
       "      <th>clarity</th>\n",
       "      <th>depth</th>\n",
       "      <th>table</th>\n",
       "      <th>price</th>\n",
       "      <th>x</th>\n",
       "      <th>y</th>\n",
       "      <th>z</th>\n",
       "    </tr>\n",
       "  </thead>\n",
       "  <tbody>\n",
       "    <tr>\n",
       "      <th>0</th>\n",
       "      <td>1</td>\n",
       "      <td>0.23</td>\n",
       "      <td>Ideal</td>\n",
       "      <td>E</td>\n",
       "      <td>SI2</td>\n",
       "      <td>61.5</td>\n",
       "      <td>55.0</td>\n",
       "      <td>326</td>\n",
       "      <td>3.95</td>\n",
       "      <td>3.98</td>\n",
       "      <td>2.43</td>\n",
       "    </tr>\n",
       "    <tr>\n",
       "      <th>1</th>\n",
       "      <td>2</td>\n",
       "      <td>0.21</td>\n",
       "      <td>Premium</td>\n",
       "      <td>E</td>\n",
       "      <td>SI1</td>\n",
       "      <td>59.8</td>\n",
       "      <td>61.0</td>\n",
       "      <td>326</td>\n",
       "      <td>3.89</td>\n",
       "      <td>3.84</td>\n",
       "      <td>2.31</td>\n",
       "    </tr>\n",
       "    <tr>\n",
       "      <th>2</th>\n",
       "      <td>3</td>\n",
       "      <td>0.23</td>\n",
       "      <td>Good</td>\n",
       "      <td>E</td>\n",
       "      <td>VS1</td>\n",
       "      <td>56.9</td>\n",
       "      <td>65.0</td>\n",
       "      <td>327</td>\n",
       "      <td>4.05</td>\n",
       "      <td>4.07</td>\n",
       "      <td>2.31</td>\n",
       "    </tr>\n",
       "    <tr>\n",
       "      <th>3</th>\n",
       "      <td>4</td>\n",
       "      <td>0.29</td>\n",
       "      <td>Premium</td>\n",
       "      <td>I</td>\n",
       "      <td>VS2</td>\n",
       "      <td>62.4</td>\n",
       "      <td>58.0</td>\n",
       "      <td>334</td>\n",
       "      <td>4.20</td>\n",
       "      <td>4.23</td>\n",
       "      <td>2.63</td>\n",
       "    </tr>\n",
       "    <tr>\n",
       "      <th>4</th>\n",
       "      <td>5</td>\n",
       "      <td>0.31</td>\n",
       "      <td>Good</td>\n",
       "      <td>J</td>\n",
       "      <td>SI2</td>\n",
       "      <td>63.3</td>\n",
       "      <td>58.0</td>\n",
       "      <td>335</td>\n",
       "      <td>4.34</td>\n",
       "      <td>4.35</td>\n",
       "      <td>2.75</td>\n",
       "    </tr>\n",
       "  </tbody>\n",
       "</table>\n",
       "</div>"
      ],
      "text/plain": [
       "   Unnamed: 0  carat      cut color clarity  depth  table  price     x     y  \\\n",
       "0           1   0.23    Ideal     E     SI2   61.5   55.0    326  3.95  3.98   \n",
       "1           2   0.21  Premium     E     SI1   59.8   61.0    326  3.89  3.84   \n",
       "2           3   0.23     Good     E     VS1   56.9   65.0    327  4.05  4.07   \n",
       "3           4   0.29  Premium     I     VS2   62.4   58.0    334  4.20  4.23   \n",
       "4           5   0.31     Good     J     SI2   63.3   58.0    335  4.34  4.35   \n",
       "\n",
       "      z  \n",
       "0  2.43  \n",
       "1  2.31  \n",
       "2  2.31  \n",
       "3  2.63  \n",
       "4  2.75  "
      ]
     },
     "execution_count": 7,
     "metadata": {},
     "output_type": "execute_result"
    }
   ],
   "source": [
    "diamonds_df.head()"
   ]
  },
  {
   "cell_type": "code",
   "execution_count": 8,
   "id": "fad21c95-f542-44ec-8f06-8f57fd42ddef",
   "metadata": {
    "colab": {
     "base_uri": "https://localhost:8080/",
     "height": 430
    },
    "id": "fad21c95-f542-44ec-8f06-8f57fd42ddef",
    "outputId": "cda66a09-590c-45b0-9ed1-1699bfddaaf9"
   },
   "outputs": [
    {
     "data": {
      "image/png": "[encoded data removed]",
      "text/plain": [
       "<Figure size 640x480 with 1 Axes>"
      ]
     },
     "metadata": {},
     "output_type": "display_data"
    }
   ],
   "source": [
    "plt.hist(diamonds_df['price'], bins=100)\n",
    "plt.grid();"
   ]
  },
  {
   "cell_type": "markdown",
   "id": "17ac44bb-86c7-424a-8b9b-0a21bf490683",
   "metadata": {
    "id": "17ac44bb-86c7-424a-8b9b-0a21bf490683"
   },
   "source": [
    "# Подготовка данных"
   ]
  },
  {
   "cell_type": "code",
   "execution_count": 9,
   "id": "e19945ea-cecf-481e-a28b-3f9c11001918",
   "metadata": {
    "id": "e19945ea-cecf-481e-a28b-3f9c11001918"
   },
   "outputs": [],
   "source": [
    "features = ['carat', 'cut', 'color', 'clarity', 'depth', 'table', 'x', 'y', 'z']\n",
    "target = ['price']"
   ]
  },
  {
   "cell_type": "code",
   "execution_count": 11,
   "id": "fbc43eb0-e77f-4765-8b0e-b9052c093855",
   "metadata": {
    "id": "fbc43eb0-e77f-4765-8b0e-b9052c093855"
   },
   "outputs": [],
   "source": [
    "cut_transform = {'Fair': 0, 'Good': 1, 'Very Good': 2, 'Premium': 3, 'Ideal': 4}\n",
    "clarity_transform = {'I1': 0, 'SI2': 1, 'SI1': 2, 'VS2': 3, 'VS1': 4, 'VVS2': 5, 'VVS1': 6, 'IF': 7}\n",
    "color_transorm = {'D': 0, 'E': 1, 'F': 2, 'G': 3, 'H': 4, 'I': 5, 'J': 6}"
   ]
  },
  {
   "cell_type": "code",
   "execution_count": 13,
   "id": "6f82b34f-9ffc-478f-a103-b2cbbca49a94",
   "metadata": {
    "id": "6f82b34f-9ffc-478f-a103-b2cbbca49a94"
   },
   "outputs": [],
   "source": [
    "diamonds_df['cut'] = diamonds_df['cut'].apply(lambda x: cut_transform.get(x))\n",
    "diamonds_df['color'] = diamonds_df['color'].apply(lambda x: color_transorm.get(x))\n",
    "diamonds_df['clarity'] = diamonds_df['clarity'].apply(lambda x: clarity_transform.get(x))"
   ]
  },
  {
   "cell_type": "code",
   "execution_count": 15,
   "id": "8e5fa82b-92ed-4e79-adf2-422204b45e82",
   "metadata": {
    "id": "8e5fa82b-92ed-4e79-adf2-422204b45e82"
   },
   "outputs": [],
   "source": [
    "X = diamonds_df[features].copy().values\n",
    "y = diamonds_df[target].values"
   ]
  },
  {
   "cell_type": "code",
   "execution_count": 17,
   "id": "64c11d68-dc5c-4753-9cc4-3cc4e136f3cb",
   "metadata": {
    "id": "64c11d68-dc5c-4753-9cc4-3cc4e136f3cb"
   },
   "outputs": [],
   "source": [
    "X_train, X_test, y_train, y_test = train_test_split(X, y, random_state=47, test_size=0.3)"
   ]
  },
  {
   "cell_type": "code",
   "execution_count": 19,
   "id": "rGU9tSuwk3Lp",
   "metadata": {
    "id": "rGU9tSuwk3Lp"
   },
   "outputs": [],
   "source": [
    "scaler = MinMaxScaler()\n",
    "X_train = scaler.fit_transform(X_train)\n",
    "X_test = scaler.transform(X_test)"
   ]
  },
  {
   "cell_type": "markdown",
   "id": "3b743ed1-d0cf-485d-b8f2-8c71fc174e8b",
   "metadata": {
    "id": "3b743ed1-d0cf-485d-b8f2-8c71fc174e8b"
   },
   "source": [
    "# Обучаем модель линейной регрессии"
   ]
  },
  {
   "cell_type": "code",
   "execution_count": 28,
   "id": "3N2iJEIuxW0H",
   "metadata": {
    "id": "3N2iJEIuxW0H"
   },
   "outputs": [],
   "source": [
    "reg = LinearRegression().fit(X_train, y_train)"
   ]
  },
  {
   "cell_type": "code",
   "execution_count": 30,
   "id": "f968e336-4049-41b2-81d1-4c24f0969bbb",
   "metadata": {
    "id": "f968e336-4049-41b2-81d1-4c24f0969bbb"
   },
   "outputs": [],
   "source": [
    "y_pred = reg.predict(X_test)"
   ]
  },
  {
   "cell_type": "code",
   "execution_count": 32,
   "id": "0952990a-b3d6-4da4-9cc6-1ab3a7a25ac7",
   "metadata": {
    "id": "0952990a-b3d6-4da4-9cc6-1ab3a7a25ac7"
   },
   "outputs": [],
   "source": [
    "score = r2_score(y_test, y_pred)"
   ]
  },
  {
   "cell_type": "code",
   "execution_count": 34,
   "id": "f89c3bbd-0a3a-48ac-b1ab-b75dc0c5bcce",
   "metadata": {
    "colab": {
     "base_uri": "https://localhost:8080/",
     "height": 452
    },
    "id": "f89c3bbd-0a3a-48ac-b1ab-b75dc0c5bcce",
    "outputId": "587de3bd-b38b-4de9-d156-ac034b9dc075"
   },
   "outputs": [
    {
     "data": {
      "image/png": "[encoded data removed]",
      "text/plain": [
       "<Figure size 640x480 with 1 Axes>"
      ]
     },
     "metadata": {},
     "output_type": "display_data"
    }
   ],
   "source": [
    "plt.title(f'R2: {str(score)[:5]}')\n",
    "plt.hist(y_pred.reshape(1, -1)[0], bins=100, label='PREDICTION')\n",
    "plt.hist(y_test.reshape(1, -1)[0], bins=100, label='GT')\n",
    "plt.legend()\n",
    "plt.grid();"
   ]
  },
  {
   "cell_type": "markdown",
   "id": "6nKJT7VRlIeU",
   "metadata": {
    "id": "6nKJT7VRlIeU"
   },
   "source": [
    "# Задание 1: Реализация Gradient Descent для модели линейной регрессии"
   ]
  },
  {
   "cell_type": "markdown",
   "id": "7UpV6l4clfwC",
   "metadata": {
    "id": "7UpV6l4clfwC"
   },
   "source": [
    "Ниже представлен шаблон кода, который необходимо дополнить, реализовав все указанные методы, и самостоятельно протестировать корректность решения. Можно (и даже нужно) добавлять свои методы для бОльшей читабельности кода\n",
    "\n",
    "Достаточно будет, чтобы код работал для случая, когда X и y - np.ndarray\n",
    "\n",
    "Внутри класса запрещается использовать сторонние библиотеки, кроме numpy"
   ]
  },
  {
   "cell_type": "code",
   "execution_count": 38,
   "id": "ohUWWybdlHYw",
   "metadata": {
    "id": "ohUWWybdlHYw"
   },
   "outputs": [],
   "source": [
    "class LinearRegressorGD:\n",
    "    \"\"\"\n",
    "    Линейная регрессия с использованием Gradient Descent\n",
    "    \"\"\"\n",
    "\n",
    "    def __init__(self, learning_rate=0.01, n_iter=1000):\n",
    "        \"\"\"\n",
    "        Конструктор класса\n",
    "\n",
    "        Параметры:\n",
    "            learning_rate (float): Скорость обучения\n",
    "            n_iter (int): Количество итераций градиентного спуска\n",
    "        \"\"\"\n",
    "        self.learning_rate = learning_rate\n",
    "        self.n_iter = n_iter\n",
    "        \n",
    "        self._weights = None\n",
    "\n",
    "    def get_grad(self, X, y):\n",
    "        return (2 / y.shape[0]) * X.T @ (X @ self._weights - y) # В качестве функции потерь взята MSE\n",
    "\n",
    "    def fit(self, X, y):\n",
    "        \"\"\"\n",
    "        Обучение модели на обучающей выборке с использованием\n",
    "        градиентного спуска\n",
    "\n",
    "        Параметры:\n",
    "            X (np.ndarray): Матрица признаков размера (n_samples, n_features)\n",
    "            y (np.ndarray): Вектор таргета длины n_samples\n",
    "        \"\"\"\n",
    "        X = np.hstack([np.ones((X.shape[0], 1)), X]) # Чтобы представить линейную регрессию как просто скалярное произведение входных данных и вектора весов\n",
    "        self._weights = np.random.normal(0.0, 0.3, (X.shape[1], 1))\n",
    "        for i in range(self.n_iter):\n",
    "            grad =  self.get_grad(X, y)\n",
    "            self._weights = self._weights - self.learning_rate * grad\n",
    "            \n",
    "        return self\n",
    "            \n",
    "\n",
    "    def predict(self, X):\n",
    "        \"\"\"\n",
    "        Получение предсказаний обученной модели\n",
    "\n",
    "        Параметры:\n",
    "            X (np.ndarray): Матрица признаков\n",
    "\n",
    "        Возвращает:\n",
    "            np.ndarray: Предсказание для каждого элемента из X\n",
    "        \"\"\"\n",
    "        X = np.hstack([np.ones((X.shape[0], 1)), X]) # См. метод fit \n",
    "        return X @ self._weights\n",
    "\n",
    "    def get_params(self):\n",
    "        \"\"\"\n",
    "        Возвращает обученные параметры модели\n",
    "        \"\"\"\n",
    "        return self._weights # self._weights[0] - свободный член регрессии\n"
   ]
  },
  {
   "cell_type": "code",
   "execution_count": 40,
   "id": "0b582e9e-dd3e-46a0-8297-3f2cd633c3cd",
   "metadata": {},
   "outputs": [],
   "source": [
    "regGD = LinearRegressorGD(0.01, 10000).fit(X_train, y_train)"
   ]
  },
  {
   "cell_type": "code",
   "execution_count": 41,
   "id": "f4fae1ed-8680-4e29-b98c-aeb128a0331b",
   "metadata": {},
   "outputs": [],
   "source": [
    "y_pred_GD = regGD.predict(X_test)"
   ]
  },
  {
   "cell_type": "code",
   "execution_count": 46,
   "id": "5ea36ab3-8493-4574-9330-baa42e1aabf3",
   "metadata": {},
   "outputs": [],
   "source": [
    "score_GD = r2_score(y_test, y_pred_GD)"
   ]
  },
  {
   "cell_type": "code",
   "execution_count": 48,
   "id": "7527d1d8-2077-4e15-9f28-2e96a66b13fe",
   "metadata": {},
   "outputs": [
    {
     "data": {
      "image/png": "[encoded data removed]",
      "text/plain": [
       "<Figure size 640x480 with 1 Axes>"
      ]
     },
     "metadata": {},
     "output_type": "display_data"
    }
   ],
   "source": [
    "plt.title(f'R2: {str(score_GD)[:5]}')\n",
    "plt.hist(y_pred_GD.reshape(1, -1)[0], bins=100, label='PREDICTION')\n",
    "plt.hist(y_test.reshape(1, -1)[0], bins=100, label='GT')\n",
    "plt.legend()\n",
    "plt.grid();"
   ]
  },
  {
   "cell_type": "markdown",
   "id": "ebkQuLxTpTmF",
   "metadata": {
    "id": "ebkQuLxTpTmF"
   },
   "source": [
    "# Задание 2: Реализация backpropagation для MLP"
   ]
  },
  {
   "cell_type": "markdown",
   "id": "2G7W8JLzpZRf",
   "metadata": {
    "id": "2G7W8JLzpZRf"
   },
   "source": [
    "Ниже представлен шаблон кода, который необходимо дополнить, реализовав все указанные методы, и самостоятельно протестировать корректность решения. Можно (и даже нужно) добавлять свои методы для бОльшей читабельности кода\n",
    "\n",
    "Достаточно будет, чтобы код работал для случая, когда X и y - np.ndarray\n",
    "\n",
    "В качестве функции активации нужно использовать sigmoid\n",
    "\n",
    "Внутри класса запрещается использовать сторонние библиотеки, кроме numpy"
   ]
  },
  {
   "cell_type": "code",
   "execution_count": 21,
   "id": "7b68fd52-74a0-4698-bb67-aff50e638bee",
   "metadata": {},
   "outputs": [],
   "source": [
    "from sklearn.preprocessing import StandardScaler\n",
    "\n",
    "class MLPRegressor:\n",
    "    \"\"\"\n",
    "    Многослойный перцептрон (MLP) для задачи регрессии, использующий алгоритм\n",
    "    обратного распространения ошибки\n",
    "    \"\"\"\n",
    "\n",
    "    def __init__(self, hidden_layer_sizes=(100,), learning_rate=0.01, n_iter=100):\n",
    "        \"\"\"\n",
    "        Конструктор класса\n",
    "\n",
    "        Параметры:\n",
    "            hidden_layer_sizes (tuple): Кортеж, определяющий архитектуру\n",
    "        скрытых слоев. Например (100, 10) - два скрытых слоя, размером 100 и 10\n",
    "        нейронов, соответственно\n",
    "            learning_rate (float): Скорость обучения\n",
    "            n_iter (int): Количество итераций градиентного спуска\n",
    "        \"\"\"\n",
    "        self.hidden_layer_sizes = hidden_layer_sizes\n",
    "        self.learning_rate = learning_rate\n",
    "        self.n_iter = n_iter\n",
    "\n",
    "        self.layers = None\n",
    "\n",
    "        self.scaler_X = StandardScaler()\n",
    "        self.scaler_y = StandardScaler()\n",
    "\n",
    "    def sigmoid(self, output):\n",
    "        return 1 / (1 + np.exp(-output))\n",
    "        \n",
    "    def forward(self, X):\n",
    "        \"\"\"\n",
    "        Реализация forward pass\n",
    "\n",
    "        Параметры:\n",
    "            X (np.ndarray): Матрица признаков размера (n_samples, n_features)\n",
    "\n",
    "        Возвращает:\n",
    "            np.ndarray: Предсказания модели\n",
    "        \"\"\"\n",
    "        H = [] # Массив выходов всех скрытых слоев.\n",
    "        current = np.hstack([np.ones((X.shape[0], 1)), X])\n",
    "        H.append(current) # H0 - выходы нулевого слоя т.е. входные сигналы)\n",
    "        for i in range(len(self.layers) - 1):\n",
    "            current = self.sigmoid(current @ self.layers[i])\n",
    "            current = np.hstack([np.ones((current.shape[0], 1)), current])\n",
    "            H.append(current)\n",
    "        output = current @ self.layers[-1] # Тождественная функция активации на последнем слое\n",
    "        return output, H\n",
    "\n",
    "    def backward(self, H, y, y_hat):\n",
    "        \"\"\"\n",
    "        Реализация backward pass\n",
    "\n",
    "        Возвращает:\n",
    "            X (np.ndarray): Матрица признаков размера (n_samples, n_features)\n",
    "            y (np.ndarray): Вектор таргета длины n_samples\n",
    "            y_hat (np.ndarray): Вектор выходных значений сети длины n_samples\n",
    "        \"\"\"\n",
    "        y = y.reshape(-1, 1)\n",
    "        n = H[0].shape[0]\n",
    "        dL_dW = []\n",
    "        \n",
    "        dL_dy_hat = (y_hat - y) / n\n",
    "        dL_dW_output = H[-1].T @ dL_dy_hat\n",
    "        dL_dW.append(dL_dW_output)\n",
    "        dL_dZi_plus1 = dL_dy_hat\n",
    "\n",
    "        for i in range(len(self.layers) - 1, 0, -1):\n",
    "            dZi_plus1_dHi = self.layers[i][1:, :].T # Чтобы не учитывать первую строку, по факту ялвяющуюся вектором смещения\n",
    "            dHi_dZi = H[i][:, 1:]*(1 - H[i][:, 1:]) # Чтобы не учитывать единичный столбец, добавленный для учета смещений в вычислении следующих выходов\n",
    "            dZi_dWi = H[i-1].T\n",
    "\n",
    "            dL_dZi = dL_dZi_plus1 @ dZi_plus1_dHi * dHi_dZi\n",
    "            dL_dWi = dZi_dWi @ dL_dZi\n",
    "            dL_dW.append(dL_dWi)\n",
    "            dL_dZi_plus1 = dL_dZi\n",
    "            \n",
    "        return dL_dW\n",
    "\n",
    "    def find_loss(self, y, y_hat):\n",
    "        return np.mean((y - y_hat) ** 2)\n",
    "\n",
    "    def fit(self, X, y):\n",
    "        \"\"\"\n",
    "        Обучение модели\n",
    "\n",
    "        Параметры:\n",
    "            X (np.ndarray): Матрица признаков размера (n_samples, n_features)\n",
    "            y (np.ndarray): Вектор таргета длины n_samples\n",
    "        \"\"\"\n",
    "        X = self.scaler_X.fit_transform(X)\n",
    "        y = self.scaler_y.fit_transform(y.reshape(-1, 1))\n",
    "        # Если не нормировать данные (в частности массив y), то возникает следующая ситуация: т.к. выходы последнего скрытого слоя\n",
    "        # проходят через функцию сигмоида, они лежат в диапазоне 0-1, умножаются на веса, которые изначально инициализированы также \n",
    "        # небольшими значениями, взвешенная сумма получается небольшая, поэтому для предсказания достаточно больших значений\n",
    "        # (средняя цена в тренировочной выборке diamomds ~3950) начинает быстро увеличиваться значение смещения. В итоге смещение\n",
    "        # стремится к среднему таргету выборки, а значения весов к нулю, что практически превращает перцептрон в функцию константы.\n",
    "        # Для избежания этого вектор y нормируется, выходные значения уменьшаются, и веса последнего слоя начинают играть большую роль,\n",
    "        # что не дает провалиться в локальный минимум, описанный выше.\n",
    "        \n",
    "        self.layers = []\n",
    "    \n",
    "        weights = np.random.normal(0.0, 0.3, (X.shape[1], self.hidden_layer_sizes[0]))\n",
    "        biases = np.zeros((1, self.hidden_layer_sizes[0]))\n",
    "        self.layers.append(np.vstack([biases, weights]))\n",
    "    \n",
    "        for i in range(1, len(self.hidden_layer_sizes)):\n",
    "            weights = np.random.normal(0.0, 0.3, (self.hidden_layer_sizes[i - 1], self.hidden_layer_sizes[i]))\n",
    "            biases = np.zeros((1, self.hidden_layer_sizes[i]))\n",
    "            self.layers.append(np.vstack([biases, weights]))\n",
    "\n",
    "        weights = np.random.normal(0.0, 0.3, (self.hidden_layer_sizes[-1], 1))\n",
    "        biases = np.zeros((1, 1))\n",
    "        self.layers.append(np.vstack([biases, weights]))\n",
    "\n",
    "        losses = []\n",
    "        for i in range(self.n_iter):\n",
    "            y_hat, H = self.forward(X)\n",
    "            losses.append(self.find_loss(y, y_hat))\n",
    "            dL_dW = self.backward(H, y, y_hat)\n",
    "            for j in range(len(self.layers)):\n",
    "                self.layers[-1 - j] = self.layers[-1 - j] - self.learning_rate * dL_dW[j] # Т.к. производые вычислялись от последного слоя к первому\n",
    "\n",
    "        return self, losses\n",
    "\n",
    "    def predict(self, X):\n",
    "        \"\"\"\n",
    "        Получение предсказаний обученной модели\n",
    "\n",
    "        Параметры:\n",
    "            X (np.ndarray): Матрица признаков\n",
    "\n",
    "        Возвращает:\n",
    "            np.ndarray: Предсказание для каждого элемента из X\n",
    "        \"\"\"\n",
    "        X = self.scaler_X.transform(X)\n",
    "        current = np.hstack([np.ones((X.shape[0], 1)), X])\n",
    "        for i in range(len(self.layers) - 1):\n",
    "            current = self.sigmoid(current @ self.layers[i])\n",
    "            current = np.hstack([np.ones((current.shape[0], 1)), current])\n",
    "        output = current @ self.layers[-1]\n",
    "        return self.scaler_y.inverse_transform(output) # Чтобы выводить цены не в нормированном виде\n"
   ]
  },
  {
   "cell_type": "code",
   "execution_count": 23,
   "id": "a81cda57-8ccf-4596-b508-2ff813b2564c",
   "metadata": {},
   "outputs": [],
   "source": [
    "MLPreg, losses = MLPRegressor(hidden_layer_sizes=(10,), learning_rate=0.01, n_iter=10000).fit(X_train, y_train)"
   ]
  },
  {
   "cell_type": "code",
   "execution_count": 24,
   "id": "29e03500-f156-46e6-8c03-66411b29c077",
   "metadata": {},
   "outputs": [
    {
     "data": {
      "image/png": "[encoded data removed]",
      "text/plain": [
       "<Figure size 640x480 with 1 Axes>"
      ]
     },
     "metadata": {},
     "output_type": "display_data"
    }
   ],
   "source": [
    "plt.title('Значение функции потерь в процессе обучения')\n",
    "plt.plot(np.arange(1, len(losses) + 1), losses)\n",
    "plt.grid()"
   ]
  },
  {
   "cell_type": "code",
   "execution_count": 25,
   "id": "d895c089-ed47-4dc0-88b2-97565188118e",
   "metadata": {},
   "outputs": [],
   "source": [
    "y_pred_MLP = MLPreg.predict(X_test)"
   ]
  },
  {
   "cell_type": "code",
   "execution_count": 26,
   "id": "bb1cd630-efa2-426e-b40e-fc8f220eb88a",
   "metadata": {},
   "outputs": [],
   "source": [
    "score_MLP = r2_score(y_test, y_pred_MLP)"
   ]
  },
  {
   "cell_type": "code",
   "execution_count": 27,
   "id": "5580a720-a3fd-4530-bdf3-5478c37280d9",
   "metadata": {},
   "outputs": [
    {
     "data": {
      "image/png": "[encoded data removed]",
      "text/plain": [
       "<Figure size 640x480 with 1 Axes>"
      ]
     },
     "metadata": {},
     "output_type": "display_data"
    }
   ],
   "source": [
    "plt.title(f'R2: {str(score_MLP)[:5]}')\n",
    "plt.hist(y_pred_MLP.reshape(1, -1)[0], bins=100, label='PREDICTION')\n",
    "plt.hist(y_test.reshape(1, -1)[0], bins=100, label='GT')\n",
    "plt.legend()\n",
    "plt.grid();"
   ]
  },
  {
   "cell_type": "code",
   "execution_count": 28,
   "id": "3b6839f5-dae5-4984-a56f-33859d5903e7",
   "metadata": {},
   "outputs": [
    {
     "data": {
      "image/png": "[encoded data removed]",
      "text/plain": [
       "<Figure size 640x480 with 1 Axes>"
      ]
     },
     "metadata": {},
     "output_type": "display_data"
    }
   ],
   "source": [
    "plt.hist(y_pred_MLP.reshape(1, -1)[0], bins=100, label='PREDICTION')\n",
    "plt.legend()\n",
    "plt.grid();"
   ]
  },
  {
   "cell_type": "code",
   "execution_count": 29,
   "id": "f19d8a6a-25b4-44ca-b9e9-dce9cbeb5a36",
   "metadata": {},
   "outputs": [
    {
     "data": {
      "text/plain": [
       "array([ 777.57139484,  228.09631273, -142.77770867, ..., -830.7324479 ,\n",
       "       5457.46336365,  916.40968082])"
      ]
     },
     "execution_count": 29,
     "metadata": {},
     "output_type": "execute_result"
    }
   ],
   "source": [
    "y_pred_MLP.reshape(1, -1)[0]"
   ]
  },
  {
   "cell_type": "code",
   "execution_count": 30,
   "id": "f8a3c407-8216-4dcf-a2f2-1b302463706c",
   "metadata": {},
   "outputs": [
    {
     "data": {
      "text/plain": [
       "array([1240,  515,  614, ...,  422, 4142, 1033], dtype=int64)"
      ]
     },
     "execution_count": 30,
     "metadata": {},
     "output_type": "execute_result"
    }
   ],
   "source": [
    "y_test.reshape(1, -1)[0]"
   ]
  },
  {
   "cell_type": "code",
   "execution_count": 31,
   "id": "16a66f8b-1d84-4a8f-a42d-53f74925646b",
   "metadata": {},
   "outputs": [
    {
     "data": {
      "text/plain": [
       "3950.2046983420732"
      ]
     },
     "execution_count": 31,
     "metadata": {},
     "output_type": "execute_result"
    }
   ],
   "source": [
    "np.mean(y_train)"
   ]
  },
  {
   "cell_type": "code",
   "execution_count": 32,
   "id": "57fce3bd-3c25-43e1-9c12-964d93572d7e",
   "metadata": {},
   "outputs": [
    {
     "data": {
      "text/plain": [
       "3889.834289530016"
      ]
     },
     "execution_count": 32,
     "metadata": {},
     "output_type": "execute_result"
    }
   ],
   "source": [
    "np.mean(y_pred_MLP)"
   ]
  },
  {
   "cell_type": "markdown",
   "id": "b7be92f6-d308-44fa-b44c-f1c0fd75b44f",
   "metadata": {},
   "source": [
    "# Выводы"
   ]
  },
  {
   "cell_type": "markdown",
   "id": "9ab1e121-1699-43f2-b231-cfd08cfbb14d",
   "metadata": {},
   "source": [
    "1) Линейная регрессия, реализованная через градиентый спуск, показывает результат близкий к LinearRegression из sklearn.\n",
    "2) Получившийся перцептрон обеспечивает стабильное приближение к минимуму функции потерь (MSE) и при предложенной архитектуре показывает лучшее значение метрики R2 по сравнению с линейной регрессией.\n",
    "3) Для задачи предсказания стоимости возможно имело бы смысл ввести штрафы для отрицательных значений y_hat (стоимость неотрицательна)."
   ]
  },
  {
   "cell_type": "code",
   "execution_count": null,
   "id": "beab6de0-07e1-4ba3-b476-e519e7ace6a9",
   "metadata": {},
   "outputs": [],
   "source": []
  }
 ],
 "metadata": {
  "colab": {
   "provenance": []
  },
  "kernelspec": {
   "display_name": "Python 3 (ipykernel)",
   "language": "python",
   "name": "python3"
  },
  "language_info": {
   "codemirror_mode": {
    "name": "ipython",
    "version": 3
   },
   "file_extension": ".py",
   "mimetype": "text/x-python",
   "name": "python",
   "nbconvert_exporter": "python",
   "pygments_lexer": "ipython3",
   "version": "3.12.4"
  }
 },
 "nbformat": 4,
 "nbformat_minor": 5
}
